{
 "cells": [
  {
   "cell_type": "code",
   "execution_count": 1,
   "id": "5c8e2d33-b3d7-41eb-811b-e4f6eaa275b8",
   "metadata": {},
   "outputs": [],
   "source": [
    "#!pip install spacy"
   ]
  },
  {
   "cell_type": "code",
   "execution_count": 2,
   "id": "a2676064-cdb8-40de-9493-8f0eef318e20",
   "metadata": {},
   "outputs": [],
   "source": [
    "#!pip install num2words"
   ]
  },
  {
   "cell_type": "code",
   "execution_count": 3,
   "id": "42051850-3dd1-482a-9f63-c00b0cef63d3",
   "metadata": {},
   "outputs": [],
   "source": [
    "#!python -m spacy download es_core_news_sm"
   ]
  },
  {
   "cell_type": "code",
   "execution_count": 4,
   "id": "0e2534eb-c241-4ba5-adc5-0cc9b90c7db3",
   "metadata": {},
   "outputs": [],
   "source": [
    "##ELABORACION DEL PROYECTO 1"
   ]
  },
  {
   "cell_type": "code",
   "execution_count": 5,
   "id": "4a707c41-3b3d-4245-a76c-430a515c8d21",
   "metadata": {},
   "outputs": [],
   "source": [
    "# Instalación de librerias\n",
    "import pandas as pd\n",
    "import numpy as np\n",
    "import sys\n",
    "from pandas_profiling import ProfileReport\n",
    "\n",
    "import re, string, unicodedata\n",
    "import contractions\n",
    "import inflect\n",
    "from nltk import word_tokenize, sent_tokenize\n",
    "from nltk.corpus import stopwords\n",
    "from nltk.stem import LancasterStemmer, WordNetLemmatizer\n",
    "\n",
    "from sklearn.model_selection import train_test_split,GridSearchCV\n",
    "from sklearn.feature_extraction.text import TfidfVectorizer, CountVectorizer, HashingVectorizer\n",
    "from sklearn.pipeline import Pipeline, FeatureUnion\n",
    "from sklearn.svm import SVC\n",
    "from sklearn.ensemble import BaggingClassifier, RandomForestClassifier, AdaBoostClassifier\n",
    "from sklearn.naive_bayes import BernoulliNB\n",
    "from sklearn.metrics import classification_report, confusion_matrix, plot_precision_recall_curve\n",
    "from sklearn.base import BaseEstimator, ClassifierMixin\n",
    "from collections import Counter\n",
    "import matplotlib.pyplot as plt\n",
    "import spacy\n",
    "from num2words import num2words\n",
    "import re\n",
    "# Cargar modelo de idioma español\n",
    "nlp = spacy.load('es_core_news_sm')\n",
    "from nltk.stem.snowball import SnowballStemmer\n",
    "\n",
    "stemmer = SnowballStemmer(language='spanish')"
   ]
  },
  {
   "cell_type": "code",
   "execution_count": 6,
   "id": "672f99f8-4d0f-4f14-99ee-5f1c6aaf0bf3",
   "metadata": {},
   "outputs": [],
   "source": [
    "# Uso de la libreria pandas para la lectura de archivos\n",
    "data=pd.read_csv('HotelsReviews.csv', sep=',', encoding = 'utf-8', index_col=0)\n",
    "# Asignación a una nueva variable de los datos leidos\n",
    "data_t=data"
   ]
  },
  {
   "cell_type": "code",
   "execution_count": 7,
   "id": "7d331847-14c5-474e-82bd-154aabec5de4",
   "metadata": {},
   "outputs": [
    {
     "data": {
      "text/html": [
       "<div>\n",
       "<style scoped>\n",
       "    .dataframe tbody tr th:only-of-type {\n",
       "        vertical-align: middle;\n",
       "    }\n",
       "\n",
       "    .dataframe tbody tr th {\n",
       "        vertical-align: top;\n",
       "    }\n",
       "\n",
       "    .dataframe thead th {\n",
       "        text-align: right;\n",
       "    }\n",
       "</style>\n",
       "<table border=\"1\" class=\"dataframe\">\n",
       "  <thead>\n",
       "    <tr style=\"text-align: right;\">\n",
       "      <th></th>\n",
       "      <th>rating</th>\n",
       "      <th>label</th>\n",
       "    </tr>\n",
       "  </thead>\n",
       "  <tbody>\n",
       "    <tr>\n",
       "      <th>count</th>\n",
       "      <td>5000.00000</td>\n",
       "      <td>5000.000000</td>\n",
       "    </tr>\n",
       "    <tr>\n",
       "      <th>mean</th>\n",
       "      <td>3.98620</td>\n",
       "      <td>1.103000</td>\n",
       "    </tr>\n",
       "    <tr>\n",
       "      <th>std</th>\n",
       "      <td>1.29659</td>\n",
       "      <td>0.797821</td>\n",
       "    </tr>\n",
       "    <tr>\n",
       "      <th>min</th>\n",
       "      <td>1.00000</td>\n",
       "      <td>0.000000</td>\n",
       "    </tr>\n",
       "    <tr>\n",
       "      <th>25%</th>\n",
       "      <td>3.00000</td>\n",
       "      <td>1.000000</td>\n",
       "    </tr>\n",
       "    <tr>\n",
       "      <th>50%</th>\n",
       "      <td>4.00000</td>\n",
       "      <td>1.000000</td>\n",
       "    </tr>\n",
       "    <tr>\n",
       "      <th>75%</th>\n",
       "      <td>5.00000</td>\n",
       "      <td>1.000000</td>\n",
       "    </tr>\n",
       "    <tr>\n",
       "      <th>max</th>\n",
       "      <td>5.00000</td>\n",
       "      <td>3.000000</td>\n",
       "    </tr>\n",
       "  </tbody>\n",
       "</table>\n",
       "</div>"
      ],
      "text/plain": [
       "           rating        label\n",
       "count  5000.00000  5000.000000\n",
       "mean      3.98620     1.103000\n",
       "std       1.29659     0.797821\n",
       "min       1.00000     0.000000\n",
       "25%       3.00000     1.000000\n",
       "50%       4.00000     1.000000\n",
       "75%       5.00000     1.000000\n",
       "max       5.00000     3.000000"
      ]
     },
     "execution_count": 7,
     "metadata": {},
     "output_type": "execute_result"
    }
   ],
   "source": [
    "data_t['words'] = data_t['review_text'].apply(lambda x: x.split())\n",
    "\n",
    "data_t.describe()"
   ]
  },
  {
   "cell_type": "code",
   "execution_count": 8,
   "id": "5e6ef20f-8ada-4764-97b4-b67d49b62ea9",
   "metadata": {},
   "outputs": [
    {
     "data": {
      "text/plain": [
       "title          object\n",
       "rating          int64\n",
       "review_text    object\n",
       "location       object\n",
       "hotel          object\n",
       "label           int64\n",
       "words          object\n",
       "dtype: object"
      ]
     },
     "execution_count": 8,
     "metadata": {},
     "output_type": "execute_result"
    }
   ],
   "source": [
    "data_t.dtypes"
   ]
  },
  {
   "cell_type": "code",
   "execution_count": 9,
   "id": "e03a3696-9c98-49c4-b7cc-f605aa4316ec",
   "metadata": {},
   "outputs": [],
   "source": [
    "##ENTENDIMIENTO DE LOS DATOS\n",
    "# EN Este pedazo hay que hacer estadisticas descriptivas de la columna de texto del dataframe"
   ]
  },
  {
   "cell_type": "code",
   "execution_count": 10,
   "id": "84762c8f-5ad1-4c79-a71e-d8ae0a475fca",
   "metadata": {},
   "outputs": [],
   "source": [
    "textos = data_t.copy()\n",
    "data_t['conteoXpalabra'] = data_t['words'].apply(lambda x: dict(Counter(x)))\n",
    "data_t['conteo'] = data_t['words'].apply(lambda x: len(x))\n",
    "data_t['palabra_mas_repetida'] = data_t['conteoXpalabra'].apply(lambda x: max(x.items(), key=lambda item: item[1])[0])\n",
    "data_t['Min'] = [[min([len(x) for x in i.split(' ')])][0] for i in textos['review_text']]\n",
    "data_t['Max'] = [[max([len(x) for x in i.split(' ')])][0] for i in textos['review_text']]"
   ]
  },
  {
   "cell_type": "code",
   "execution_count": 11,
   "id": "291ff67d-80bc-42f2-9e69-0f378a4e26e5",
   "metadata": {},
   "outputs": [
    {
     "data": {
      "text/html": [
       "<div>\n",
       "<style scoped>\n",
       "    .dataframe tbody tr th:only-of-type {\n",
       "        vertical-align: middle;\n",
       "    }\n",
       "\n",
       "    .dataframe tbody tr th {\n",
       "        vertical-align: top;\n",
       "    }\n",
       "\n",
       "    .dataframe thead th {\n",
       "        text-align: right;\n",
       "    }\n",
       "</style>\n",
       "<table border=\"1\" class=\"dataframe\">\n",
       "  <thead>\n",
       "    <tr style=\"text-align: right;\">\n",
       "      <th></th>\n",
       "      <th>title</th>\n",
       "      <th>rating</th>\n",
       "      <th>review_text</th>\n",
       "      <th>location</th>\n",
       "      <th>hotel</th>\n",
       "      <th>label</th>\n",
       "      <th>words</th>\n",
       "      <th>conteoXpalabra</th>\n",
       "      <th>conteo</th>\n",
       "      <th>palabra_mas_repetida</th>\n",
       "      <th>Min</th>\n",
       "      <th>Max</th>\n",
       "    </tr>\n",
       "  </thead>\n",
       "  <tbody>\n",
       "    <tr>\n",
       "      <th>0</th>\n",
       "      <td>Villa Katherina carretera de Cádiz</td>\n",
       "      <td>1</td>\n",
       "      <td>Tanto yo como mi pareja hemos vivido una exper...</td>\n",
       "      <td>Malaga_Costa_del_Sol_Province_of_Malaga_Andalucia</td>\n",
       "      <td>Villa_Katerina</td>\n",
       "      <td>0</td>\n",
       "      <td>[Tanto, yo, como, mi, pareja, hemos, vivido, u...</td>\n",
       "      <td>{'Tanto': 1, 'yo': 1, 'como': 1, 'mi': 1, 'par...</td>\n",
       "      <td>159</td>\n",
       "      <td>el</td>\n",
       "      <td>0</td>\n",
       "      <td>13</td>\n",
       "    </tr>\n",
       "    <tr>\n",
       "      <th>1</th>\n",
       "      <td>Malo</td>\n",
       "      <td>1</td>\n",
       "      <td>Caro y malo.  No lo recomiendo. No hay grupo g...</td>\n",
       "      <td>Cordoba_Province_of_Cordoba_Andalucia</td>\n",
       "      <td>Hotel_Xanaes</td>\n",
       "      <td>0</td>\n",
       "      <td>[Caro, y, malo., No, lo, recomiendo., No, hay,...</td>\n",
       "      <td>{'Caro': 1, 'y': 2, 'malo.': 1, 'No': 3, 'lo':...</td>\n",
       "      <td>48</td>\n",
       "      <td>No</td>\n",
       "      <td>0</td>\n",
       "      <td>11</td>\n",
       "    </tr>\n",
       "    <tr>\n",
       "      <th>2</th>\n",
       "      <td>Finde carisimo</td>\n",
       "      <td>1</td>\n",
       "      <td>Mi marido y yo fuimos a pasar un fin de semana...</td>\n",
       "      <td>Granada_Province_of_Granada_Andalucia</td>\n",
       "      <td>Hotel_Palacio_de_Los_Navas</td>\n",
       "      <td>0</td>\n",
       "      <td>[Mi, marido, y, yo, fuimos, a, pasar, un, fin,...</td>\n",
       "      <td>{'Mi': 1, 'marido': 1, 'y': 2, 'yo': 1, 'fuimo...</td>\n",
       "      <td>98</td>\n",
       "      <td>que</td>\n",
       "      <td>1</td>\n",
       "      <td>12</td>\n",
       "    </tr>\n",
       "    <tr>\n",
       "      <th>3</th>\n",
       "      <td>Una vez y no más.</td>\n",
       "      <td>2</td>\n",
       "      <td>Las comparaciones son odiosas pero he de decir...</td>\n",
       "      <td>Granada_Province_of_Granada_Andalucia</td>\n",
       "      <td>Casa_Palacio_Pilar_del_Toro_Hotel</td>\n",
       "      <td>0</td>\n",
       "      <td>[Las, comparaciones, son, odiosas, pero, he, d...</td>\n",
       "      <td>{'Las': 1, 'comparaciones': 1, 'son': 1, 'odio...</td>\n",
       "      <td>113</td>\n",
       "      <td>que</td>\n",
       "      <td>0</td>\n",
       "      <td>13</td>\n",
       "    </tr>\n",
       "    <tr>\n",
       "      <th>4</th>\n",
       "      <td>Nada que ver con las fotos</td>\n",
       "      <td>1</td>\n",
       "      <td>La limpieza de la habitación es muy mala llega...</td>\n",
       "      <td>Almeria_Province_of_Almeria_Andalucia</td>\n",
       "      <td>Hotel_Embajador</td>\n",
       "      <td>0</td>\n",
       "      <td>[La, limpieza, de, la, habitación, es, muy, ma...</td>\n",
       "      <td>{'La': 3, 'limpieza': 1, 'de': 5, 'la': 6, 'ha...</td>\n",
       "      <td>114</td>\n",
       "      <td>la</td>\n",
       "      <td>1</td>\n",
       "      <td>12</td>\n",
       "    </tr>\n",
       "  </tbody>\n",
       "</table>\n",
       "</div>"
      ],
      "text/plain": [
       "                                title  rating  \\\n",
       "0  Villa Katherina carretera de Cádiz       1   \n",
       "1                                Malo       1   \n",
       "2                      Finde carisimo       1   \n",
       "3                   Una vez y no más.       2   \n",
       "4          Nada que ver con las fotos       1   \n",
       "\n",
       "                                         review_text  \\\n",
       "0  Tanto yo como mi pareja hemos vivido una exper...   \n",
       "1  Caro y malo.  No lo recomiendo. No hay grupo g...   \n",
       "2  Mi marido y yo fuimos a pasar un fin de semana...   \n",
       "3  Las comparaciones son odiosas pero he de decir...   \n",
       "4  La limpieza de la habitación es muy mala llega...   \n",
       "\n",
       "                                            location  \\\n",
       "0  Malaga_Costa_del_Sol_Province_of_Malaga_Andalucia   \n",
       "1              Cordoba_Province_of_Cordoba_Andalucia   \n",
       "2              Granada_Province_of_Granada_Andalucia   \n",
       "3              Granada_Province_of_Granada_Andalucia   \n",
       "4              Almeria_Province_of_Almeria_Andalucia   \n",
       "\n",
       "                               hotel  label  \\\n",
       "0                     Villa_Katerina      0   \n",
       "1                       Hotel_Xanaes      0   \n",
       "2         Hotel_Palacio_de_Los_Navas      0   \n",
       "3  Casa_Palacio_Pilar_del_Toro_Hotel      0   \n",
       "4                    Hotel_Embajador      0   \n",
       "\n",
       "                                               words  \\\n",
       "0  [Tanto, yo, como, mi, pareja, hemos, vivido, u...   \n",
       "1  [Caro, y, malo., No, lo, recomiendo., No, hay,...   \n",
       "2  [Mi, marido, y, yo, fuimos, a, pasar, un, fin,...   \n",
       "3  [Las, comparaciones, son, odiosas, pero, he, d...   \n",
       "4  [La, limpieza, de, la, habitación, es, muy, ma...   \n",
       "\n",
       "                                      conteoXpalabra  conteo  \\\n",
       "0  {'Tanto': 1, 'yo': 1, 'como': 1, 'mi': 1, 'par...     159   \n",
       "1  {'Caro': 1, 'y': 2, 'malo.': 1, 'No': 3, 'lo':...      48   \n",
       "2  {'Mi': 1, 'marido': 1, 'y': 2, 'yo': 1, 'fuimo...      98   \n",
       "3  {'Las': 1, 'comparaciones': 1, 'son': 1, 'odio...     113   \n",
       "4  {'La': 3, 'limpieza': 1, 'de': 5, 'la': 6, 'ha...     114   \n",
       "\n",
       "  palabra_mas_repetida  Min  Max  \n",
       "0                   el    0   13  \n",
       "1                   No    0   11  \n",
       "2                  que    1   12  \n",
       "3                  que    0   13  \n",
       "4                   la    1   12  "
      ]
     },
     "execution_count": 11,
     "metadata": {},
     "output_type": "execute_result"
    }
   ],
   "source": [
    "\n",
    "data_t.head(5)"
   ]
  },
  {
   "cell_type": "code",
   "execution_count": null,
   "id": "b52dc7f3-c2b3-4f03-bcda-377467c69717",
   "metadata": {},
   "outputs": [],
   "source": []
  },
  {
   "cell_type": "markdown",
   "id": "65d26494-8b05-4194-9fe3-df6224e799cb",
   "metadata": {
    "id": "CeKFwj3cdHnx"
   },
   "source": [
    "#### **3.1 Limpieza de los datos**\n",
    "Para dejar el archivo en texto plano, sobre todo cuando vienen de diferentes fuentes como HTML, Twitter, XML, entre otros. También para eliminar caracteres especiales y pasar todo a minúscula.\n",
    "\n",
    "<span style=\"color:red\"> En este punto te invitamos a completar las funciones faltantes, como convertir los elementos de una lista a minúsculas (to_lowercase) y para eliminar los stowords (remove_stopwords) <span>"
   ]
  },
  {
   "cell_type": "code",
   "execution_count": 12,
   "id": "4539ede5-29c2-4f16-91e1-87147156c383",
   "metadata": {
    "id": "KMVA9gOc87WY"
   },
   "outputs": [],
   "source": [
    "##NO PUEDO HACER LA DE LOS CARACTERES ASCII POR QUE ME LLEVO TODAS LAS PALABRAS CON TILDE & Ñs\n",
    "##ENTONCES  HAGO UNA QUE QUITE LAS TILDES & LAS \"ñ\" LAS CAMBIE POR \"n\"\n",
    "def quitar_tildes_y_enye(palabras):\n",
    "    \"\"\"Función que recibe una lista de palabras y devuelve la misma lista con las tildes eliminadas y la letra 'ñ' reemplazada por la letra 'n'.\"\"\"\n",
    "    mapa_tildes = {\n",
    "        'á': 'a',\n",
    "        'é': 'e',\n",
    "        'í': 'i',\n",
    "        'ó': 'o',\n",
    "        'ú': 'u',\n",
    "        'Á': 'A',\n",
    "        'É': 'E',\n",
    "        'Í': 'I',\n",
    "        'Ó': 'O',\n",
    "        'Ú': 'U'\n",
    "    }\n",
    "    \n",
    "    palabras_sin_tildes = []\n",
    "    \n",
    "    for palabra in palabras:\n",
    "        palabra_sin_tildes = ''.join(mapa_tildes.get(caracter, caracter) for caracter in palabra)\n",
    "        palabra_sin_enye = palabra_sin_tildes.replace('ñ', 'n').replace('Ñ', 'N')\n",
    "        palabras_sin_tildes.append(palabra_sin_enye)\n",
    "    \n",
    "    return palabras_sin_tildes\n",
    "\n",
    "def remove_non_ascii(words):\n",
    "    \"\"\"Remove non-ASCII characters from list of tokenized words\"\"\"\n",
    "    new_words = []\n",
    "    for word in words:\n",
    "        new_word = unicodedata.normalize('NFKD', word).encode('ascii', 'ignore').decode('utf-8', 'ignore')\n",
    "        new_words.append(new_word)\n",
    "    return new_words\n",
    "\n",
    "def convertir_a_minusculas(palabras):\n",
    "    \"\"\"\n",
    "    Convierte una lista de palabras a minúsculas.\n",
    "    \n",
    "    Args:\n",
    "    palabras (list): lista de palabras\n",
    "    \n",
    "    Returns:\n",
    "    list: lista de palabras en minúsculas\n",
    "    \"\"\"\n",
    "    palabras_minusculas = [palabra.lower() for palabra in palabras]\n",
    "    return palabras_minusculas\n",
    "\n",
    "def remove_punctuation(words):\n",
    "    \"\"\"Remove punctuation from list of tokenized words\"\"\"\n",
    "    new_words = []\n",
    "    for word in words:\n",
    "        new_word = re.sub(r'[^\\w\\s]', '', word)\n",
    "        if new_word != '':\n",
    "            new_words.append(new_word)\n",
    "    return new_words\n",
    "\n",
    "\n",
    "def reemplazar_numeros_por_palabras(palabras):\n",
    "    \"\"\"\n",
    "    Reemplaza los números en una lista de palabras por palabras tokenizables.\n",
    "    \n",
    "    Args:\n",
    "    palabras (list): lista de palabras que pueden contener números\n",
    "    \n",
    "    Returns:\n",
    "    list: lista de palabras con los números reemplazados por palabras tokenizables\n",
    "    \"\"\"\n",
    "    palabras_tokenizables = []\n",
    "    for palabra in palabras:\n",
    "        # Si la palabra es un número, reemplazarla por su representación en palabras\n",
    "        if re.match('^\\d+$', palabra):\n",
    "            palabra_tokenizable = num2words(int(palabra), lang='es')\n",
    "            palabras_tokenizables.append(palabra_tokenizable)\n",
    "        else:\n",
    "            palabras_tokenizables.append(palabra)\n",
    "    return palabras_tokenizables\n",
    "\n",
    "def eliminar_stopwords(palabras):\n",
    "    \"\"\"\n",
    "    Elimina las stopwords en español de una lista de palabras.\n",
    "    \n",
    "    Args:\n",
    "    palabras (list): lista de palabras\n",
    "    \n",
    "    Returns:\n",
    "    list: lista de palabras sin stopwords\n",
    "    \"\"\"\n",
    "    # Obtener la lista de stopwords en español\n",
    "    stopwords_es = stopwords.words('spanish')\n",
    "    \n",
    "    # Crear una nueva lista de palabras sin las stopwords\n",
    "    palabras_sin_stopwords = [palabra for palabra in palabras if palabra.lower() not in stopwords_es]\n",
    "    \n",
    "    return palabras_sin_stopwords\n",
    "\n",
    "def preprocessing(words):\n",
    "    \n",
    "    words = reemplazar_numeros_por_palabras(words)\n",
    "    words = convertir_a_minusculas(words)\n",
    "    words = remove_punctuation(words)\n",
    "    #quitar_tildes_y_enye\n",
    "    words = quitar_tildes_y_enye(words)\n",
    "    words = remove_non_ascii(words)\n",
    "    words = eliminar_stopwords(words)\n",
    "    return words"
   ]
  },
  {
   "cell_type": "markdown",
   "id": "7a7520a9-a7db-461e-be11-eef90b3b2981",
   "metadata": {
    "id": "RJqG_OevdhCP"
   },
   "source": [
    "#### **3.2 Tokenización**\n",
    "La tokenización permite dividir frases u oraciones en palabras. Con el fin de desglozar las palabras correctamente para el posterior análisis. Pero primero, se realiza una corrección de las contracciones que pueden estar presentes en los textos. "
   ]
  },
  {
   "cell_type": "code",
   "execution_count": 13,
   "id": "91769df7-7353-4abc-984b-cf3d77975dda",
   "metadata": {},
   "outputs": [],
   "source": [
    "def tokenizar(texto):\n",
    "    doc = nlp(texto)\n",
    "    palabras = [token.text for token in doc if not token.is_stop and not token.is_punct]\n",
    "    return palabras"
   ]
  },
  {
   "cell_type": "code",
   "execution_count": 14,
   "id": "8783c7b5-5be4-4353-aa42-ea707728c2c9",
   "metadata": {},
   "outputs": [
    {
     "data": {
      "text/html": [
       "<div>\n",
       "<style scoped>\n",
       "    .dataframe tbody tr th:only-of-type {\n",
       "        vertical-align: middle;\n",
       "    }\n",
       "\n",
       "    .dataframe tbody tr th {\n",
       "        vertical-align: top;\n",
       "    }\n",
       "\n",
       "    .dataframe thead th {\n",
       "        text-align: right;\n",
       "    }\n",
       "</style>\n",
       "<table border=\"1\" class=\"dataframe\">\n",
       "  <thead>\n",
       "    <tr style=\"text-align: right;\">\n",
       "      <th></th>\n",
       "      <th>title</th>\n",
       "      <th>rating</th>\n",
       "      <th>review_text</th>\n",
       "      <th>location</th>\n",
       "      <th>hotel</th>\n",
       "      <th>label</th>\n",
       "      <th>words</th>\n",
       "      <th>conteoXpalabra</th>\n",
       "      <th>conteo</th>\n",
       "      <th>palabra_mas_repetida</th>\n",
       "      <th>Min</th>\n",
       "      <th>Max</th>\n",
       "    </tr>\n",
       "  </thead>\n",
       "  <tbody>\n",
       "    <tr>\n",
       "      <th>0</th>\n",
       "      <td>Villa Katherina carretera de Cádiz</td>\n",
       "      <td>1</td>\n",
       "      <td>Tanto yo como mi pareja hemos vivido una exper...</td>\n",
       "      <td>Malaga_Costa_del_Sol_Province_of_Malaga_Andalucia</td>\n",
       "      <td>Villa_Katerina</td>\n",
       "      <td>0</td>\n",
       "      <td>[pareja, vivido, experiencia, horrible,  , jac...</td>\n",
       "      <td>{'Tanto': 1, 'yo': 1, 'como': 1, 'mi': 1, 'par...</td>\n",
       "      <td>159</td>\n",
       "      <td>el</td>\n",
       "      <td>0</td>\n",
       "      <td>13</td>\n",
       "    </tr>\n",
       "    <tr>\n",
       "      <th>1</th>\n",
       "      <td>Malo</td>\n",
       "      <td>1</td>\n",
       "      <td>Caro y malo.  No lo recomiendo. No hay grupo g...</td>\n",
       "      <td>Cordoba_Province_of_Cordoba_Andalucia</td>\n",
       "      <td>Hotel_Xanaes</td>\n",
       "      <td>0</td>\n",
       "      <td>[caro, malo,  , recomiendo, grupo, generador, ...</td>\n",
       "      <td>{'Caro': 1, 'y': 2, 'malo.': 1, 'No': 3, 'lo':...</td>\n",
       "      <td>48</td>\n",
       "      <td>No</td>\n",
       "      <td>0</td>\n",
       "      <td>11</td>\n",
       "    </tr>\n",
       "    <tr>\n",
       "      <th>2</th>\n",
       "      <td>Finde carisimo</td>\n",
       "      <td>1</td>\n",
       "      <td>Mi marido y yo fuimos a pasar un fin de semana...</td>\n",
       "      <td>Granada_Province_of_Granada_Andalucia</td>\n",
       "      <td>Hotel_Palacio_de_Los_Navas</td>\n",
       "      <td>0</td>\n",
       "      <td>[marido, pasar, semana, hotel, habian, recomen...</td>\n",
       "      <td>{'Mi': 1, 'marido': 1, 'y': 2, 'yo': 1, 'fuimo...</td>\n",
       "      <td>98</td>\n",
       "      <td>que</td>\n",
       "      <td>1</td>\n",
       "      <td>12</td>\n",
       "    </tr>\n",
       "    <tr>\n",
       "      <th>3</th>\n",
       "      <td>Una vez y no más.</td>\n",
       "      <td>2</td>\n",
       "      <td>Las comparaciones son odiosas pero he de decir...</td>\n",
       "      <td>Granada_Province_of_Granada_Andalucia</td>\n",
       "      <td>Casa_Palacio_Pilar_del_Toro_Hotel</td>\n",
       "      <td>0</td>\n",
       "      <td>[comparaciones, odiosas, invitable, compararlo...</td>\n",
       "      <td>{'Las': 1, 'comparaciones': 1, 'son': 1, 'odio...</td>\n",
       "      <td>113</td>\n",
       "      <td>que</td>\n",
       "      <td>0</td>\n",
       "      <td>13</td>\n",
       "    </tr>\n",
       "    <tr>\n",
       "      <th>4</th>\n",
       "      <td>Nada que ver con las fotos</td>\n",
       "      <td>1</td>\n",
       "      <td>La limpieza de la habitación es muy mala llega...</td>\n",
       "      <td>Almeria_Province_of_Almeria_Andalucia</td>\n",
       "      <td>Hotel_Embajador</td>\n",
       "      <td>0</td>\n",
       "      <td>[limpieza, habitacion, mala, llegando, habitac...</td>\n",
       "      <td>{'La': 3, 'limpieza': 1, 'de': 5, 'la': 6, 'ha...</td>\n",
       "      <td>114</td>\n",
       "      <td>la</td>\n",
       "      <td>1</td>\n",
       "      <td>12</td>\n",
       "    </tr>\n",
       "  </tbody>\n",
       "</table>\n",
       "</div>"
      ],
      "text/plain": [
       "                                title  rating  \\\n",
       "0  Villa Katherina carretera de Cádiz       1   \n",
       "1                                Malo       1   \n",
       "2                      Finde carisimo       1   \n",
       "3                   Una vez y no más.       2   \n",
       "4          Nada que ver con las fotos       1   \n",
       "\n",
       "                                         review_text  \\\n",
       "0  Tanto yo como mi pareja hemos vivido una exper...   \n",
       "1  Caro y malo.  No lo recomiendo. No hay grupo g...   \n",
       "2  Mi marido y yo fuimos a pasar un fin de semana...   \n",
       "3  Las comparaciones son odiosas pero he de decir...   \n",
       "4  La limpieza de la habitación es muy mala llega...   \n",
       "\n",
       "                                            location  \\\n",
       "0  Malaga_Costa_del_Sol_Province_of_Malaga_Andalucia   \n",
       "1              Cordoba_Province_of_Cordoba_Andalucia   \n",
       "2              Granada_Province_of_Granada_Andalucia   \n",
       "3              Granada_Province_of_Granada_Andalucia   \n",
       "4              Almeria_Province_of_Almeria_Andalucia   \n",
       "\n",
       "                               hotel  label  \\\n",
       "0                     Villa_Katerina      0   \n",
       "1                       Hotel_Xanaes      0   \n",
       "2         Hotel_Palacio_de_Los_Navas      0   \n",
       "3  Casa_Palacio_Pilar_del_Toro_Hotel      0   \n",
       "4                    Hotel_Embajador      0   \n",
       "\n",
       "                                               words  \\\n",
       "0  [pareja, vivido, experiencia, horrible,  , jac...   \n",
       "1  [caro, malo,  , recomiendo, grupo, generador, ...   \n",
       "2  [marido, pasar, semana, hotel, habian, recomen...   \n",
       "3  [comparaciones, odiosas, invitable, compararlo...   \n",
       "4  [limpieza, habitacion, mala, llegando, habitac...   \n",
       "\n",
       "                                      conteoXpalabra  conteo  \\\n",
       "0  {'Tanto': 1, 'yo': 1, 'como': 1, 'mi': 1, 'par...     159   \n",
       "1  {'Caro': 1, 'y': 2, 'malo.': 1, 'No': 3, 'lo':...      48   \n",
       "2  {'Mi': 1, 'marido': 1, 'y': 2, 'yo': 1, 'fuimo...      98   \n",
       "3  {'Las': 1, 'comparaciones': 1, 'son': 1, 'odio...     113   \n",
       "4  {'La': 3, 'limpieza': 1, 'de': 5, 'la': 6, 'ha...     114   \n",
       "\n",
       "  palabra_mas_repetida  Min  Max  \n",
       "0                   el    0   13  \n",
       "1                   No    0   11  \n",
       "2                  que    1   12  \n",
       "3                  que    0   13  \n",
       "4                   la    1   12  "
      ]
     },
     "execution_count": 14,
     "metadata": {},
     "output_type": "execute_result"
    }
   ],
   "source": [
    "data_t['words'] = data_t['review_text'].apply(tokenizar).apply(preprocessing) #Aplica la eliminación del ruido\n",
    "data_t.head()"
   ]
  },
  {
   "cell_type": "code",
   "execution_count": 15,
   "id": "d0c37b35-4f33-4505-b4f8-f14a4f33c51c",
   "metadata": {},
   "outputs": [],
   "source": [
    "def stem_palabra(palabra):\n",
    "    return stemmer.stem(palabra)\n",
    "def lemmatize_word(word):\n",
    "    doc = nlp(word)\n",
    "    if len(doc) > 0:\n",
    "        return doc[0].lemma_\n",
    "    else:\n",
    "        return ''\n",
    "def stem_y_lematizar_lista(lista_palabras):\n",
    "    lista_stems = [stem_palabra(palabra) for palabra in lista_palabras]\n",
    "    lista_lemas = [lemmatize_word(palabra) for palabra in lista_palabras]\n",
    "    return lista_lemas+lista_stems\n"
   ]
  },
  {
   "cell_type": "code",
   "execution_count": 16,
   "id": "133f88ec-0215-4c67-92d7-57f4774b1d49",
   "metadata": {},
   "outputs": [],
   "source": [
    "#df_cars[df_cars.selling_price<121154]\n",
    "data_t = data_t[data_t['words'].apply(len)>0]"
   ]
  },
  {
   "cell_type": "code",
   "execution_count": 17,
   "id": "49730554-c484-454c-811a-05adea5a3085",
   "metadata": {},
   "outputs": [],
   "source": [
    "#data_t.dropna(inplace=True)"
   ]
  },
  {
   "cell_type": "code",
   "execution_count": 18,
   "id": "3a08bc03-301d-4f16-8d27-40c3af90f4df",
   "metadata": {},
   "outputs": [
    {
     "data": {
      "text/html": [
       "<div>\n",
       "<style scoped>\n",
       "    .dataframe tbody tr th:only-of-type {\n",
       "        vertical-align: middle;\n",
       "    }\n",
       "\n",
       "    .dataframe tbody tr th {\n",
       "        vertical-align: top;\n",
       "    }\n",
       "\n",
       "    .dataframe thead th {\n",
       "        text-align: right;\n",
       "    }\n",
       "</style>\n",
       "<table border=\"1\" class=\"dataframe\">\n",
       "  <thead>\n",
       "    <tr style=\"text-align: right;\">\n",
       "      <th></th>\n",
       "      <th>title</th>\n",
       "      <th>rating</th>\n",
       "      <th>review_text</th>\n",
       "      <th>location</th>\n",
       "      <th>hotel</th>\n",
       "      <th>label</th>\n",
       "      <th>words</th>\n",
       "      <th>conteoXpalabra</th>\n",
       "      <th>conteo</th>\n",
       "      <th>palabra_mas_repetida</th>\n",
       "      <th>Min</th>\n",
       "      <th>Max</th>\n",
       "    </tr>\n",
       "  </thead>\n",
       "  <tbody>\n",
       "    <tr>\n",
       "      <th>0</th>\n",
       "      <td>Villa Katherina carretera de Cádiz</td>\n",
       "      <td>1</td>\n",
       "      <td>Tanto yo como mi pareja hemos vivido una exper...</td>\n",
       "      <td>Malaga_Costa_del_Sol_Province_of_Malaga_Andalucia</td>\n",
       "      <td>Villa_Katerina</td>\n",
       "      <td>0</td>\n",
       "      <td>[pareja, vivir, experiencia, horrible,  , jacu...</td>\n",
       "      <td>{'Tanto': 1, 'yo': 1, 'como': 1, 'mi': 1, 'par...</td>\n",
       "      <td>159</td>\n",
       "      <td>el</td>\n",
       "      <td>0</td>\n",
       "      <td>13</td>\n",
       "    </tr>\n",
       "    <tr>\n",
       "      <th>1</th>\n",
       "      <td>Malo</td>\n",
       "      <td>1</td>\n",
       "      <td>Caro y malo.  No lo recomiendo. No hay grupo g...</td>\n",
       "      <td>Cordoba_Province_of_Cordoba_Andalucia</td>\n",
       "      <td>Hotel_Xanaes</td>\n",
       "      <td>0</td>\n",
       "      <td>[caro, malo,  , recomeir, grupo, generador, si...</td>\n",
       "      <td>{'Caro': 1, 'y': 2, 'malo.': 1, 'No': 3, 'lo':...</td>\n",
       "      <td>48</td>\n",
       "      <td>No</td>\n",
       "      <td>0</td>\n",
       "      <td>11</td>\n",
       "    </tr>\n",
       "    <tr>\n",
       "      <th>2</th>\n",
       "      <td>Finde carisimo</td>\n",
       "      <td>1</td>\n",
       "      <td>Mi marido y yo fuimos a pasar un fin de semana...</td>\n",
       "      <td>Granada_Province_of_Granada_Andalucia</td>\n",
       "      <td>Hotel_Palacio_de_Los_Navas</td>\n",
       "      <td>0</td>\n",
       "      <td>[marido, pasar, semana, hotel, habiar, recomen...</td>\n",
       "      <td>{'Mi': 1, 'marido': 1, 'y': 2, 'yo': 1, 'fuimo...</td>\n",
       "      <td>98</td>\n",
       "      <td>que</td>\n",
       "      <td>1</td>\n",
       "      <td>12</td>\n",
       "    </tr>\n",
       "    <tr>\n",
       "      <th>3</th>\n",
       "      <td>Una vez y no más.</td>\n",
       "      <td>2</td>\n",
       "      <td>Las comparaciones son odiosas pero he de decir...</td>\n",
       "      <td>Granada_Province_of_Granada_Andalucia</td>\n",
       "      <td>Casa_Palacio_Pilar_del_Toro_Hotel</td>\n",
       "      <td>0</td>\n",
       "      <td>[comparación, odiosa, invitable, comparar él, ...</td>\n",
       "      <td>{'Las': 1, 'comparaciones': 1, 'son': 1, 'odio...</td>\n",
       "      <td>113</td>\n",
       "      <td>que</td>\n",
       "      <td>0</td>\n",
       "      <td>13</td>\n",
       "    </tr>\n",
       "    <tr>\n",
       "      <th>4</th>\n",
       "      <td>Nada que ver con las fotos</td>\n",
       "      <td>1</td>\n",
       "      <td>La limpieza de la habitación es muy mala llega...</td>\n",
       "      <td>Almeria_Province_of_Almeria_Andalucia</td>\n",
       "      <td>Hotel_Embajador</td>\n",
       "      <td>0</td>\n",
       "      <td>[limpiecer, habitacion, malo, llegar, habitaci...</td>\n",
       "      <td>{'La': 3, 'limpieza': 1, 'de': 5, 'la': 6, 'ha...</td>\n",
       "      <td>114</td>\n",
       "      <td>la</td>\n",
       "      <td>1</td>\n",
       "      <td>12</td>\n",
       "    </tr>\n",
       "  </tbody>\n",
       "</table>\n",
       "</div>"
      ],
      "text/plain": [
       "                                title  rating  \\\n",
       "0  Villa Katherina carretera de Cádiz       1   \n",
       "1                                Malo       1   \n",
       "2                      Finde carisimo       1   \n",
       "3                   Una vez y no más.       2   \n",
       "4          Nada que ver con las fotos       1   \n",
       "\n",
       "                                         review_text  \\\n",
       "0  Tanto yo como mi pareja hemos vivido una exper...   \n",
       "1  Caro y malo.  No lo recomiendo. No hay grupo g...   \n",
       "2  Mi marido y yo fuimos a pasar un fin de semana...   \n",
       "3  Las comparaciones son odiosas pero he de decir...   \n",
       "4  La limpieza de la habitación es muy mala llega...   \n",
       "\n",
       "                                            location  \\\n",
       "0  Malaga_Costa_del_Sol_Province_of_Malaga_Andalucia   \n",
       "1              Cordoba_Province_of_Cordoba_Andalucia   \n",
       "2              Granada_Province_of_Granada_Andalucia   \n",
       "3              Granada_Province_of_Granada_Andalucia   \n",
       "4              Almeria_Province_of_Almeria_Andalucia   \n",
       "\n",
       "                               hotel  label  \\\n",
       "0                     Villa_Katerina      0   \n",
       "1                       Hotel_Xanaes      0   \n",
       "2         Hotel_Palacio_de_Los_Navas      0   \n",
       "3  Casa_Palacio_Pilar_del_Toro_Hotel      0   \n",
       "4                    Hotel_Embajador      0   \n",
       "\n",
       "                                               words  \\\n",
       "0  [pareja, vivir, experiencia, horrible,  , jacu...   \n",
       "1  [caro, malo,  , recomeir, grupo, generador, si...   \n",
       "2  [marido, pasar, semana, hotel, habiar, recomen...   \n",
       "3  [comparación, odiosa, invitable, comparar él, ...   \n",
       "4  [limpiecer, habitacion, malo, llegar, habitaci...   \n",
       "\n",
       "                                      conteoXpalabra  conteo  \\\n",
       "0  {'Tanto': 1, 'yo': 1, 'como': 1, 'mi': 1, 'par...     159   \n",
       "1  {'Caro': 1, 'y': 2, 'malo.': 1, 'No': 3, 'lo':...      48   \n",
       "2  {'Mi': 1, 'marido': 1, 'y': 2, 'yo': 1, 'fuimo...      98   \n",
       "3  {'Las': 1, 'comparaciones': 1, 'son': 1, 'odio...     113   \n",
       "4  {'La': 3, 'limpieza': 1, 'de': 5, 'la': 6, 'ha...     114   \n",
       "\n",
       "  palabra_mas_repetida  Min  Max  \n",
       "0                   el    0   13  \n",
       "1                   No    0   11  \n",
       "2                  que    1   12  \n",
       "3                  que    0   13  \n",
       "4                   la    1   12  "
      ]
     },
     "execution_count": 18,
     "metadata": {},
     "output_type": "execute_result"
    }
   ],
   "source": [
    "\n",
    "data_t['words'] = data_t['words'].apply(stem_y_lematizar_lista) #Aplica lematización y Eliminación de Prefijos y Sufijos.\n",
    "data_t.head()"
   ]
  },
  {
   "cell_type": "code",
   "execution_count": 19,
   "id": "679582eb-521c-4f1e-a0e7-627bcb0bee00",
   "metadata": {},
   "outputs": [],
   "source": [
    "backupp = data_t.copy()"
   ]
  },
  {
   "cell_type": "code",
   "execution_count": 20,
   "id": "bd01ea24-3d48-4e8a-a457-1b618a77eaaa",
   "metadata": {},
   "outputs": [
    {
     "data": {
      "text/plain": [
       "0       1\n",
       "1       1\n",
       "2       1\n",
       "3       1\n",
       "4       1\n",
       "       ..\n",
       "4995    0\n",
       "4996    0\n",
       "4997    0\n",
       "4998    0\n",
       "4999    0\n",
       "Name: label, Length: 5000, dtype: int32"
      ]
     },
     "execution_count": 20,
     "metadata": {},
     "output_type": "execute_result"
    }
   ],
   "source": [
    "X_data, y_data = data_t['words'],data_t['label']\n",
    "y_data = (y_data == 0).astype(int)\n",
    "y_data"
   ]
  },
  {
   "cell_type": "code",
   "execution_count": 21,
   "id": "5ad49d7f-6d27-4397-8c00-b89edbd5183b",
   "metadata": {},
   "outputs": [],
   "source": [
    "from sklearn.feature_extraction.text import TfidfVectorizer\n",
    "from sklearn.feature_extraction.text import TfidfTransformer\n"
   ]
  },
  {
   "cell_type": "code",
   "execution_count": 22,
   "id": "ed316b0b-45da-4f89-90a3-1b94a8bf1753",
   "metadata": {},
   "outputs": [],
   "source": [
    "def transform_tfidf(corpus):\n",
    "    vectorizer = TfidfVectorizer()\n",
    "    tfidf_matrix = vectorizer.fit_transform(corpus)\n",
    "    return tfidf_matrix.toarray(), vectorizer.get_feature_names()"
   ]
  },
  {
   "cell_type": "code",
   "execution_count": 23,
   "id": "916599a0-b96c-43a7-9770-a6cea06369a8",
   "metadata": {},
   "outputs": [],
   "source": [
    "# Crear matriz término-documento\n",
    "#X_str = [' '.join(words) for words in X_data]\n",
    "#count_vect = CountVectorizer()\n",
    "#X_counts = count_vect.fit_transform(X_str)\n",
    "\n",
    "# Aplicar transformación TF-IDF\n",
    "#tfidf_transformer = TfidfTransformer()\n",
    "#X_tfidf = tfidf_transformer.fit_transform(X_counts)"
   ]
  },
  {
   "cell_type": "code",
   "execution_count": 24,
   "id": "6cfebec0-2792-4a3f-b51b-f825542e6dc9",
   "metadata": {},
   "outputs": [],
   "source": [
    "#Calculate the TF-IDF scores\n",
    "X_data_str = [' '.join(doc) for doc in X_data]\n",
    "tfidf = TfidfVectorizer()\n",
    "X_tfidf = tfidf.fit_transform(X_data_str)"
   ]
  },
  {
   "cell_type": "code",
   "execution_count": 25,
   "id": "9e110162-1156-4cb3-8b2e-1db55173f777",
   "metadata": {},
   "outputs": [],
   "source": [
    "#Calculate the TF-IDF scores\n",
    "def funcion_tf_idf(X_data):\n",
    "    X_data_str = [' '.join(doc) for doc in X_data]\n",
    "    tfidf = TfidfVectorizer()\n",
    "    X_train_tfidf = tfidf.fit_transform(X_data_str)\n",
    "    return X_train_tfidf"
   ]
  },
  {
   "cell_type": "code",
   "execution_count": 26,
   "id": "7e30e3e2-2a91-49b2-8581-87e6eeed46f0",
   "metadata": {},
   "outputs": [
    {
     "name": "stdout",
     "output_type": "stream",
     "text": [
      "(5000, 21299)\n"
     ]
    }
   ],
   "source": [
    "print(X_tfidf.shape)"
   ]
  },
  {
   "cell_type": "code",
   "execution_count": 27,
   "id": "8666a81c-4151-445d-931f-7547ceffdfef",
   "metadata": {},
   "outputs": [
    {
     "name": "stdout",
     "output_type": "stream",
     "text": [
      "  (0, 5810)\t0.04662789351803162\n",
      "  (0, 18587)\t0.0932974266688878\n",
      "  (0, 12239)\t0.054815228689716944\n",
      "  (0, 16423)\t0.062104648056378595\n",
      "  (0, 662)\t0.04894648834349979\n",
      "  (0, 1079)\t0.046748111183955915\n",
      "  (0, 6153)\t0.043385786048484094\n",
      "  (0, 14169)\t0.06546422790655028\n",
      "  (0, 10228)\t0.10373801139485123\n",
      "  (0, 10528)\t0.10373801139485123\n",
      "  (0, 6048)\t0.06282545077589415\n",
      "  (0, 18611)\t0.0412520883526621\n",
      "  (0, 20543)\t0.07863911839323999\n",
      "  (0, 20108)\t0.035883458006988035\n",
      "  (0, 17456)\t0.07182018760693375\n",
      "  (0, 7401)\t0.06789613289549754\n",
      "  (0, 4208)\t0.09020067674894254\n",
      "  (0, 1623)\t0.16072258963818253\n",
      "  (0, 12189)\t0.10726750614836118\n",
      "  (0, 7682)\t0.13448340462918829\n",
      "  (0, 4728)\t0.10373801139485123\n",
      "  (0, 2689)\t0.03268522937978674\n",
      "  (0, 15039)\t0.10019313161644487\n",
      "  (0, 6327)\t0.0749610242036704\n",
      "  (0, 15705)\t0.08890240203124877\n",
      "  :\t:\n",
      "  (4999, 20521)\t0.09776813221936091\n",
      "  (4999, 1506)\t0.056460782853300785\n",
      "  (4999, 1507)\t0.062140700672588076\n",
      "  (4999, 6398)\t0.08086295666410236\n",
      "  (4999, 16819)\t0.11598341543238419\n",
      "  (4999, 12104)\t0.04720075799059733\n",
      "  (4999, 14802)\t0.2798364972777464\n",
      "  (4999, 15156)\t0.07910583424799279\n",
      "  (4999, 6377)\t0.048102337547068275\n",
      "  (4999, 10855)\t0.10241580763963264\n",
      "  (4999, 4798)\t0.05289885414803807\n",
      "  (4999, 15142)\t0.18670030995355194\n",
      "  (4999, 9995)\t0.04790027313255808\n",
      "  (4999, 4041)\t0.07492700518684223\n",
      "  (4999, 14851)\t0.0617133598254558\n",
      "  (4999, 6385)\t0.049659114237644936\n",
      "  (4999, 4799)\t0.062140700672588076\n",
      "  (4999, 15143)\t0.09759546409454367\n",
      "  (4999, 10019)\t0.047962236303763124\n",
      "  (4999, 4046)\t0.07504195657331328\n",
      "  (4999, 10437)\t0.07006208144279001\n",
      "  (4999, 4880)\t0.07801240119222239\n",
      "  (4999, 4889)\t0.08204234739978317\n",
      "  (4999, 2689)\t0.054731880275148366\n",
      "  (4999, 2721)\t0.05501379571319439\n"
     ]
    }
   ],
   "source": [
    "print(X_tfidf)"
   ]
  },
  {
   "cell_type": "code",
   "execution_count": 28,
   "id": "fdaaf1e6-2c5b-41f4-887a-cb5700a56410",
   "metadata": {},
   "outputs": [],
   "source": [
    "from sklearn.model_selection import GridSearchCV\n",
    "from sklearn.pipeline import Pipeline\n",
    "from sklearn.linear_model import LogisticRegression\n",
    "# Para evaluar el modelo\n",
    "from sklearn.metrics import confusion_matrix, classification_report, precision_score, recall_score, f1_score, accuracy_score\n",
    "from sklearn.metrics import plot_confusion_matrix"
   ]
  },
  {
   "cell_type": "code",
   "execution_count": 29,
   "id": "55b1635b-db04-47eb-88ab-af21ea40e74b",
   "metadata": {},
   "outputs": [],
   "source": [
    "# Dividir los datos en conjunto de entrenamiento y prueba\n",
    "X_train, X_test, y_train, y_test = train_test_split(X_tfidf, y_data, test_size=0.2, random_state=42)\n"
   ]
  },
  {
   "cell_type": "code",
   "execution_count": 30,
   "id": "6fa62574-cb90-4a36-b94e-e6834f7f2ce8",
   "metadata": {},
   "outputs": [],
   "source": [
    "\n",
    "# Definir el modelo de regresión logística\n",
    "lr_model = LogisticRegression(max_iter=1000)"
   ]
  },
  {
   "cell_type": "code",
   "execution_count": 31,
   "id": "623293a6-7036-42a6-9904-2972ee2669fd",
   "metadata": {},
   "outputs": [],
   "source": [
    "# Definir el rango de parámetros para GridSearchCV\n",
    "params = {'C': [0.001, 0.01, 0.1, 1, 10, 100], 'penalty': ['l1', 'l2']}\n",
    "\n",
    "# Crear objeto GridSearchCV con validación cruzada estratificada de 5 veces\n",
    "grid_search = GridSearchCV(lr_model, params, cv=5, scoring='accuracy')\n"
   ]
  },
  {
   "cell_type": "code",
   "execution_count": 32,
   "id": "0dc979ef-769d-4f06-a474-ed4ba6086313",
   "metadata": {},
   "outputs": [
    {
     "name": "stderr",
     "output_type": "stream",
     "text": [
      "C:\\Users\\diego\\anaconda3\\lib\\site-packages\\sklearn\\model_selection\\_validation.py:372: FitFailedWarning: \n",
      "30 fits failed out of a total of 60.\n",
      "The score on these train-test partitions for these parameters will be set to nan.\n",
      "If these failures are not expected, you can try to debug them by setting error_score='raise'.\n",
      "\n",
      "Below are more details about the failures:\n",
      "--------------------------------------------------------------------------------\n",
      "30 fits failed with the following error:\n",
      "Traceback (most recent call last):\n",
      "  File \"C:\\Users\\diego\\anaconda3\\lib\\site-packages\\sklearn\\model_selection\\_validation.py\", line 680, in _fit_and_score\n",
      "    estimator.fit(X_train, y_train, **fit_params)\n",
      "  File \"C:\\Users\\diego\\anaconda3\\lib\\site-packages\\sklearn\\linear_model\\_logistic.py\", line 1461, in fit\n",
      "    solver = _check_solver(self.solver, self.penalty, self.dual)\n",
      "  File \"C:\\Users\\diego\\anaconda3\\lib\\site-packages\\sklearn\\linear_model\\_logistic.py\", line 447, in _check_solver\n",
      "    raise ValueError(\n",
      "ValueError: Solver lbfgs supports only 'l2' or 'none' penalties, got l1 penalty.\n",
      "\n",
      "  warnings.warn(some_fits_failed_message, FitFailedWarning)\n",
      "C:\\Users\\diego\\anaconda3\\lib\\site-packages\\sklearn\\model_selection\\_search.py:969: UserWarning: One or more of the test scores are non-finite: [    nan 0.85775     nan 0.85775     nan 0.85775     nan 0.897       nan\n",
      " 0.935       nan 0.9355 ]\n",
      "  warnings.warn(\n"
     ]
    },
    {
     "data": {
      "text/plain": [
       "GridSearchCV(cv=5, estimator=LogisticRegression(max_iter=1000),\n",
       "             param_grid={'C': [0.001, 0.01, 0.1, 1, 10, 100],\n",
       "                         'penalty': ['l1', 'l2']},\n",
       "             scoring='accuracy')"
      ]
     },
     "execution_count": 32,
     "metadata": {},
     "output_type": "execute_result"
    }
   ],
   "source": [
    "# Ajustar el objeto GridSearchCV a los datos de entrenamiento\n",
    "grid_search.fit(X_train, y_train)"
   ]
  },
  {
   "cell_type": "code",
   "execution_count": 33,
   "id": "da9a2f66-2a08-4e38-9b4e-5e389fa447ae",
   "metadata": {},
   "outputs": [
    {
     "name": "stdout",
     "output_type": "stream",
     "text": [
      "Mejores parámetros:  {'C': 100, 'penalty': 'l2'}\n",
      "Score:  0.9355\n"
     ]
    }
   ],
   "source": [
    "# Imprimir los mejores parámetros y el score obtenido\n",
    "print(\"Mejores parámetros: \", grid_search.best_params_)\n",
    "print(\"Score: \", grid_search.best_score_)"
   ]
  },
  {
   "cell_type": "code",
   "execution_count": 34,
   "id": "b9071d4a-71fa-441d-bc8a-53972af28006",
   "metadata": {},
   "outputs": [
    {
     "name": "stdout",
     "output_type": "stream",
     "text": [
      "Precisión:  0.8478260869565217\n",
      "Recall:  0.7048192771084337\n",
      "Valor F1:  0.769736842105263\n"
     ]
    }
   ],
   "source": [
    "# Predecir los valores de y para el conjunto de prueba\n",
    "y_pred = grid_search.predict(X_test)\n",
    "\n",
    "# Imprimir la precisión, la exhaustividad y el valor F1 del modelo\n",
    "print(\"Precisión: \", precision_score(y_test, y_pred))\n",
    "print(\"Recall: \", recall_score(y_test, y_pred))\n",
    "print(\"Valor F1: \", f1_score(y_test, y_pred))"
   ]
  },
  {
   "cell_type": "code",
   "execution_count": 35,
   "id": "fe486861-46e0-4787-b400-2741e368d4c2",
   "metadata": {},
   "outputs": [
    {
     "name": "stderr",
     "output_type": "stream",
     "text": [
      "C:\\Users\\diego\\anaconda3\\lib\\site-packages\\sklearn\\utils\\deprecation.py:87: FutureWarning: Function get_feature_names is deprecated; get_feature_names is deprecated in 1.0 and will be removed in 1.2. Please use get_feature_names_out instead.\n",
      "  warnings.warn(msg, category=FutureWarning)\n"
     ]
    }
   ],
   "source": [
    "from sklearn.feature_extraction.text import TfidfVectorizer\n",
    "\n",
    "vectorizer = TfidfVectorizer()\n",
    "X_train_tfidf = vectorizer.fit_transform(X_data_str)\n",
    "\n",
    "lista_de_palabras_entrenamiento = vectorizer.get_feature_names()"
   ]
  },
  {
   "cell_type": "code",
   "execution_count": 36,
   "id": "3fff7f63-3274-4c02-9f77-c894a4e3bb90",
   "metadata": {},
   "outputs": [
    {
     "name": "stdout",
     "output_type": "stream",
     "text": [
      "Atributos de mayor peso:\n",
      "       coeficientes caracteristicas\n",
      "15347      8.941404           pesim\n",
      "19079      8.301812            suci\n",
      "14777      7.193221           pared\n",
      "17889      6.664400           saban\n",
      "258        6.618358            360o\n",
      "5667       6.618358       cristobal\n",
      "19086      6.401692           sucio\n",
      "15353      5.788610          pesimo\n",
      "10390      5.713847          horror\n",
      "15143      5.538509         pequena\n",
      "14516      5.353812          othels\n",
      "6311       5.342946             des\n",
      "6121       5.085786       deficient\n",
      "2256       5.056166            asin\n",
      "12581      5.051376         malisim\n",
      "12583      5.039001        malisimo\n",
      "3754       5.014911             car\n",
      "6505       4.976696          desear\n",
      "20624      4.943521         vending\n",
      "7402       4.935846       educacion\n",
      "11433      4.925861           jabon\n",
      "17890      4.915990          sabana\n",
      "11819      4.893131          lament\n",
      "19566      4.873960            teni\n",
      "6858       4.827941       dieciocho\n",
      "6857       4.752698        diecioch\n",
      "10389      4.734474        horrible\n",
      "10388      4.734446         horribl\n",
      "14856      4.659604         pasable\n",
      "5742       4.635676          cuatro\n",
      "14855      4.577326          pasabl\n",
      "5763       4.559820        cucarach\n",
      "5764       4.559820       cucaracha\n",
      "2199       4.542905            asco\n",
      "7198       4.529411      doscientos\n",
      "17806      4.493847             rot\n",
      "5480       4.481141    corresponder\n",
      "11620      4.480786          junior\n",
      "6048       4.473504       decepcion\n",
      "8949       4.455371           fatal\n",
      "2445       4.439416        ausencia\n",
      "2444       4.439416         ausenci\n",
      "5479       4.418659      correspond\n",
      "13598      4.395885           muell\n",
      "8260       4.378372         esperar\n",
      "3806       4.349094         carisim\n",
      "6046       4.330961          decent\n",
      "6047       4.330961         decente\n",
      "15352      4.311268         pesimar\n",
      "11820      4.269750      lamentable\n"
     ]
    }
   ],
   "source": [
    "# Obtener el mejor modelo resultante de GridSearchCV\n",
    "best_model = grid_search.best_estimator_\n",
    "\n",
    "# Obtener los coeficientes del modelo\n",
    "coeficientes = best_model.coef_\n",
    "\n",
    "# Obtener los nombres de las características (columnas)\n",
    "nombres_caracteristicas = [\"caracteristica_{}\".format(i) for i in range(X_train.shape[1])]\n",
    "\n",
    "# Crear un DataFrame con los coeficientes y los nombres de las características\n",
    "df_coeficientes = pd.DataFrame({\"coeficientes\": coeficientes[0], \"caracteristicas\": lista_de_palabras_entrenamiento})\n",
    "\n",
    "# Ordenar el DataFrame por los coeficientes en orden descendente\n",
    "df_coeficientes = df_coeficientes.sort_values(by=\"coeficientes\", ascending=False)\n",
    "\n",
    "# Imprimir los 50 atributos mas negativos\n",
    "print(\"Atributos de mayor peso:\")\n",
    "print(df_coeficientes.head(50))\n"
   ]
  },
  {
   "cell_type": "code",
   "execution_count": 37,
   "id": "cd6493bc-9121-4a1f-aa65-c5a77a93f03c",
   "metadata": {},
   "outputs": [
    {
     "name": "stdout",
     "output_type": "stream",
     "text": [
      "Atributos de mayor peso:\n",
      "       coeficientes caracteristicas\n",
      "12124     -8.305515          limpio\n",
      "4798      -8.099142           comod\n",
      "1614      -7.264969          amplio\n",
      "1606      -7.190908           ampli\n",
      "15205     -6.735808         perfect\n",
      "15209     -6.511150        perfecto\n",
      "8625      -6.483618        excelent\n",
      "8627      -6.457231       excelente\n",
      "11442     -6.455201            jaen\n",
      "12104     -6.440171           limpi\n",
      "7653      -6.395587          encant\n",
      "7257      -5.905734             dud\n",
      "20036     -5.747600        tranquil\n",
      "21122     -5.673265            wifi\n",
      "12745     -5.653362        maravill\n",
      "1506      -5.495771           amabl\n",
      "9586      -5.372193          genial\n",
      "20056     -5.327909       tranquilo\n",
      "13188     -5.215485             mil\n",
      "20270     -5.127103       ubicacion\n",
      "977       -4.981255           agrad\n",
      "8329      -4.977498        estacion\n",
      "5735      -4.938576        cuarenta\n",
      "4799      -4.865051          comoda\n",
      "15300     -4.779587        personal\n",
      "7263      -4.768605           dudar\n",
      "4063      -4.716520            cerc\n",
      "980       -4.636906       agradable\n",
      "4064      -4.625998           cerca\n",
      "9573      -4.450995         general\n",
      "11080     -4.440804     inmejorable\n",
      "11079     -4.433215         inmejor\n",
      "4821      -4.365995          comodo\n",
      "11280     -4.277738     interruptor\n",
      "18760     -4.261789             sol\n",
      "18615     -4.208814            situ\n",
      "8244      -4.065770    espectacular\n",
      "16910     -4.036028        recomend\n",
      "19173     -4.013571             sup\n",
      "18619     -3.999221         situado\n",
      "12753     -3.966378     maravilloso\n",
      "10581     -3.933561           ideal\n",
      "13331     -3.912399          modern\n",
      "196       -3.896400             24h\n",
      "5077      -3.878371         confort\n",
      "7665      -3.803642         encanto\n",
      "13150     -3.793509        mezquita\n",
      "13149     -3.793509         mezquit\n",
      "13423     -3.779485         monitor\n",
      "2461      -3.753528         autobus\n"
     ]
    }
   ],
   "source": [
    "# Obtener el mejor modelo resultante de GridSearchCV\n",
    "best_model = grid_search.best_estimator_\n",
    "\n",
    "# Obtener los coeficientes del modelo\n",
    "coeficientes = best_model.coef_\n",
    "\n",
    "# Obtener los nombres de las características (columnas)\n",
    "nombres_caracteristicas = [\"caracteristica_{}\".format(i) for i in range(X_train.shape[1])]\n",
    "\n",
    "# Crear un DataFrame con los coeficientes y los nombres de las características\n",
    "df_coeficientes = pd.DataFrame({\"coeficientes\": coeficientes[0], \"caracteristicas\": lista_de_palabras_entrenamiento})\n",
    "\n",
    "# Ordenar el DataFrame por los coeficientes en orden descendente\n",
    "df_coeficientes = df_coeficientes.sort_values(by=\"coeficientes\", ascending=True)\n",
    "\n",
    "# Imprimir los 50 atributos mas positivos\n",
    "print(\"Atributos de mayor peso:\")\n",
    "print(df_coeficientes.head(50))\n"
   ]
  },
  {
   "cell_type": "code",
   "execution_count": 38,
   "id": "dd4499c7-4e2c-4d29-9385-a28101c4c008",
   "metadata": {},
   "outputs": [
    {
     "data": {
      "text/plain": [
       "(21299, 2)"
      ]
     },
     "execution_count": 38,
     "metadata": {},
     "output_type": "execute_result"
    }
   ],
   "source": [
    "df_coeficientes.shape"
   ]
  },
  {
   "cell_type": "code",
   "execution_count": 39,
   "id": "7d58d009-4df1-46ab-8959-70cdd416b5ef",
   "metadata": {},
   "outputs": [
    {
     "data": {
      "text/plain": [
       "21299"
      ]
     },
     "execution_count": 39,
     "metadata": {},
     "output_type": "execute_result"
    }
   ],
   "source": [
    "len(lista_de_palabras_entrenamiento)"
   ]
  },
  {
   "cell_type": "code",
   "execution_count": 40,
   "id": "164a4d44-db33-40dc-a483-fb77dcaf016e",
   "metadata": {},
   "outputs": [
    {
     "data": {
      "text/plain": [
       "LogisticRegression(C=0.1, max_iter=1000)"
      ]
     },
     "execution_count": 40,
     "metadata": {},
     "output_type": "execute_result"
    }
   ],
   "source": [
    "##AHORA CREO EL NUEVO MODELO\n",
    "logreg = LogisticRegression(C=0.1, penalty='l2', max_iter=1000)\n",
    "logreg.fit(X_train, y_train)\n",
    "\n",
    "# Evaluar el modelo en el conjunto de prueba\n",
    "#y_pred = logreg.predict(X_test)\n",
    "#accuracy = accuracy_score(y_test, y_pred)\n",
    "#print(f\"Precisión del modelo: {accuracy}\")\n",
    "#print(\"Precisión: \", precision_score(y_test, y_pred))\n",
    "#print(\"Recall: \", recall_score(y_test, y_pred))\n",
    "#print(\"Valor F1: \", f1_score(y_test, y_pred))"
   ]
  },
  {
   "cell_type": "code",
   "execution_count": 41,
   "id": "9e4eb692-375d-477e-a30c-4b12a47f23c5",
   "metadata": {},
   "outputs": [],
   "source": [
    "y_pred = logreg.predict(X_test)"
   ]
  },
  {
   "cell_type": "code",
   "execution_count": 42,
   "id": "1ae3909c-dca6-4ad1-b3f1-514aead347bb",
   "metadata": {},
   "outputs": [
    {
     "data": {
      "text/plain": [
       "0.834"
      ]
     },
     "execution_count": 42,
     "metadata": {},
     "output_type": "execute_result"
    }
   ],
   "source": [
    "accuracy = accuracy_score(y_test, y_pred)\n",
    "accuracy"
   ]
  },
  {
   "cell_type": "code",
   "execution_count": 43,
   "id": "d1d2aeb2-bfd3-4684-9b48-09af9c851a77",
   "metadata": {},
   "outputs": [],
   "source": [
    "y_pred = grid_search.predict(X_test)"
   ]
  },
  {
   "cell_type": "code",
   "execution_count": 44,
   "id": "2d4d9bfd-92bf-482a-bc89-b95e0dc5ed76",
   "metadata": {},
   "outputs": [
    {
     "name": "stdout",
     "output_type": "stream",
     "text": [
      "              precision    recall  f1-score   support\n",
      "\n",
      "           0       0.94      0.97      0.96       834\n",
      "           1       0.85      0.70      0.77       166\n",
      "\n",
      "    accuracy                           0.93      1000\n",
      "   macro avg       0.90      0.84      0.86      1000\n",
      "weighted avg       0.93      0.93      0.93      1000\n",
      "\n"
     ]
    }
   ],
   "source": [
    "print(classification_report(y_test, y_pred))"
   ]
  },
  {
   "cell_type": "code",
   "execution_count": 45,
   "id": "ca454348-9751-4be1-9bf9-4b54ee4c03b0",
   "metadata": {},
   "outputs": [],
   "source": [
    "from sklearn.base import BaseEstimator, TransformerMixin\n",
    "from sklearn.pipeline import Pipeline\n",
    "from random import *\n",
    " \n",
    "class MultiplyColumns(BaseEstimator, TransformerMixin):\n",
    "    def __init__(self, by=1, columns=None):\n",
    "        self.by = by\n",
    "        self.columns = columns\n",
    "    \n",
    "    def fit(self, X, y=None):\n",
    "        return self\n",
    "    def transform(self, X, y=None):\n",
    "        cols_to_transform = list(X.columns)\n",
    "        if self.columns:\n",
    "            cols_to_transform = self.columns\n",
    "        #X.dropna(inplace=True)\n",
    "        Y= X[\"review_text\"]\n",
    "        Y.dropna(inplace=True)\n",
    "        Y['words'] = Y.apply(tokenizar).apply(preprocessing)\n",
    "        Y['words'] = Y['words'].apply(stem_y_lematizar_lista) #Aplica lematización y Eliminación de Prefijos y Sufijos.\n",
    "        X_data = Y['words']\n",
    "        X_data_str = [' '.join(doc) for doc in X_data]\n",
    "        tfidf = TfidfVectorizer(vocabulary=lista_de_palabras_entrenamiento)\n",
    "        X_train_tfidf = tfidf.fit_transform(X_data_str)\n",
    "        return X_train_tfidf"
   ]
  },
  {
   "cell_type": "code",
   "execution_count": 46,
   "id": "e11e8389-bc90-4f53-9f6b-2b2981000246",
   "metadata": {},
   "outputs": [],
   "source": [
    "pipeline = Pipeline(\n",
    "    [\n",
    "        (\"preprocessor\", MultiplyColumns(1, columns=[\"review_text\"])),\n",
    "        ('model', LogisticRegression(C=0.1, penalty='l2', max_iter=1000))\n",
    "    ]\n",
    ")\n",
    "#"
   ]
  },
  {
   "cell_type": "code",
   "execution_count": 47,
   "id": "910fc0e9-d9ac-4c5d-af81-fa4f048fa042",
   "metadata": {},
   "outputs": [],
   "source": [
    "X_trainn, X_testt, y_trainn, y_testt = train_test_split(data.drop(['label'], axis=1), data['label'], test_size = 0.3, random_state = 1)"
   ]
  },
  {
   "cell_type": "code",
   "execution_count": 48,
   "id": "68ec404e-95fe-464f-86a6-99da22fccfc1",
   "metadata": {},
   "outputs": [],
   "source": [
    "# Crear un vectorizador Tfidf con el vocabulario de entrenamiento\n",
    "tfidf = TfidfVectorizer(vocabulary=lista_de_palabras_entrenamiento)\n",
    "\n",
    "# Transformar los datos de entrenamiento y prueba con el vectorizador\n",
    "X_train_tfidf = tfidf.fit_transform(X_trainn)\n",
    "X_test_tfidf = tfidf.transform(X_testt)"
   ]
  },
  {
   "cell_type": "code",
   "execution_count": 49,
   "id": "9b3b0acd-93cb-47c2-8c69-e8ca91cc0572",
   "metadata": {},
   "outputs": [
    {
     "data": {
      "text/plain": [
       "Pipeline(steps=[('preprocessor', MultiplyColumns(columns=['review_text'])),\n",
       "                ('model', LogisticRegression(C=0.1, max_iter=1000))])"
      ]
     },
     "execution_count": 49,
     "metadata": {},
     "output_type": "execute_result"
    }
   ],
   "source": [
    "pipeline.fit(X_trainn, y_trainn)"
   ]
  },
  {
   "cell_type": "code",
   "execution_count": 50,
   "id": "66f291a6-987d-4a79-8da3-ff85be285bcb",
   "metadata": {},
   "outputs": [],
   "source": [
    "from sklearn.metrics import mean_absolute_error, mean_squared_error, r2_score"
   ]
  },
  {
   "cell_type": "code",
   "execution_count": 51,
   "id": "59f9887e-37c2-4bb8-a1b9-54fcd42730e9",
   "metadata": {},
   "outputs": [],
   "source": [
    "terminoUno = pipeline.predict(X_trainn)"
   ]
  },
  {
   "cell_type": "code",
   "execution_count": 52,
   "id": "84a2c9be-2185-4411-8577-0ca40ff35513",
   "metadata": {},
   "outputs": [],
   "source": [
    "terminoDos = pipeline.predict(X_testt)"
   ]
  },
  {
   "cell_type": "code",
   "execution_count": 53,
   "id": "b0cd79cb-6063-41f0-bfe6-c16391274e43",
   "metadata": {},
   "outputs": [
    {
     "name": "stdout",
     "output_type": "stream",
     "text": [
      "MAE:\n",
      "Train: 0.3945714285714286\n",
      "Test: 0.384\n",
      "\n",
      "RMSE:\n",
      "Train: 0.8048069866211933\n",
      "Test: 0.7916228058025279\n"
     ]
    }
   ],
   "source": [
    "print('MAE:')\n",
    "print('Train:', mean_absolute_error(y_trainn, terminoUno))\n",
    "print('Test:', mean_absolute_error(y_testt, terminoDos))\n",
    "print('\\nRMSE:')\n",
    "print('Train:', np.sqrt(mean_squared_error(y_trainn, terminoUno)))\n",
    "print('Test:', np.sqrt(mean_squared_error(y_testt, terminoDos)))"
   ]
  },
  {
   "cell_type": "code",
   "execution_count": 54,
   "id": "69420a08-8abe-42b6-8c9c-3c9139aa5f0f",
   "metadata": {},
   "outputs": [
    {
     "data": {
      "text/plain": [
       "21299"
      ]
     },
     "execution_count": 54,
     "metadata": {},
     "output_type": "execute_result"
    }
   ],
   "source": [
    "len(lista_de_palabras_entrenamiento)"
   ]
  },
  {
   "cell_type": "code",
   "execution_count": 55,
   "id": "81716e58-d238-44f5-8d28-40e81d7a1de4",
   "metadata": {},
   "outputs": [],
   "source": [
    "y_pred = logreg.predict(X_test)"
   ]
  },
  {
   "cell_type": "code",
   "execution_count": 56,
   "id": "2c3c6016-5616-4192-81b4-5d86da125141",
   "metadata": {},
   "outputs": [
    {
     "name": "stderr",
     "output_type": "stream",
     "text": [
      "C:\\Users\\diego\\anaconda3\\lib\\site-packages\\sklearn\\utils\\deprecation.py:87: FutureWarning: Function plot_confusion_matrix is deprecated; Function `plot_confusion_matrix` is deprecated in 1.0 and will be removed in 1.2. Use one of the class methods: ConfusionMatrixDisplay.from_predictions or ConfusionMatrixDisplay.from_estimator.\n",
      "  warnings.warn(msg, category=FutureWarning)\n"
     ]
    },
    {
     "data": {
      "image/png": "[encoded data removed]",
      "text/plain": [
       "<Figure size 800x550 with 2 Axes>"
      ]
     },
     "metadata": {},
     "output_type": "display_data"
    }
   ],
   "source": [
    "#from sklearn.metrics import plot_confusion_matrix\n",
    "\n",
    "\n",
    "# Se genera la matriz de confusión\n",
    "confusion_matrix(y_test, y_pred)\n",
    "# Se puede visualizar la matriz de confusión\n",
    "plot_confusion_matrix(grid_search.best_estimator_, X_test, y_test)  \n",
    "plt.show()  "
   ]
  },
  {
   "cell_type": "code",
   "execution_count": 57,
   "id": "915d9a08-24bf-4471-b85b-314cdb24d6af",
   "metadata": {},
   "outputs": [
    {
     "data": {
      "text/plain": [
       "63897"
      ]
     },
     "execution_count": 57,
     "metadata": {},
     "output_type": "execute_result"
    }
   ],
   "source": [
    "#p = pipeline['model'].coef_\n",
    "#for i in range(0, len(lista_de_palabras_entrenamiento)):\n",
    "    #print(lista_de_palabras_entrenamiento[i] + \" : \"+p.get(i))\n",
    "#pd.DataFrame({'columns': lista_de_palabras_entrenamiento, 'coef': pipeline['model'].coef_})\n",
    "pipeline['model'].coef_.size"
   ]
  },
  {
   "cell_type": "code",
   "execution_count": 58,
   "id": "e1c8338d-c8ff-4b74-b633-da42e265297a",
   "metadata": {},
   "outputs": [],
   "source": [
    "from sklearn.svm import SVC\n",
    "\n",
    "svm = SVC(kernel='linear')\n",
    "svm.fit(X_train, y_train)\n",
    "y_pred = svm.predict(X_test)"
   ]
  },
  {
   "cell_type": "code",
   "execution_count": 59,
   "id": "97a5b255-a463-46dd-a56a-025cfdd55a2d",
   "metadata": {},
   "outputs": [
    {
     "name": "stdout",
     "output_type": "stream",
     "text": [
      "[[811  23]\n",
      " [ 52 114]]\n",
      "              precision    recall  f1-score   support\n",
      "\n",
      "           0       0.94      0.97      0.96       834\n",
      "           1       0.83      0.69      0.75       166\n",
      "\n",
      "    accuracy                           0.93      1000\n",
      "   macro avg       0.89      0.83      0.85      1000\n",
      "weighted avg       0.92      0.93      0.92      1000\n",
      "\n"
     ]
    }
   ],
   "source": [
    "from sklearn.metrics import confusion_matrix, classification_report\n",
    "\n",
    "print(confusion_matrix(y_test, y_pred))\n",
    "print(classification_report(y_test, y_pred))"
   ]
  },
  {
   "cell_type": "code",
   "execution_count": 77,
   "id": "ddc7cbb5-6cd2-4637-b036-d669e4c78dc6",
   "metadata": {},
   "outputs": [
    {
     "name": "stderr",
     "output_type": "stream",
     "text": [
      "C:\\Users\\diego\\anaconda3\\lib\\site-packages\\sklearn\\utils\\deprecation.py:87: FutureWarning: Function plot_confusion_matrix is deprecated; Function `plot_confusion_matrix` is deprecated in 1.0 and will be removed in 1.2. Use one of the class methods: ConfusionMatrixDisplay.from_predictions or ConfusionMatrixDisplay.from_estimator.\n",
      "  warnings.warn(msg, category=FutureWarning)\n"
     ]
    },
    {
     "data": {
      "image/png": "[encoded data removed]",
      "text/plain": [
       "<Figure size 800x550 with 2 Axes>"
      ]
     },
     "metadata": {},
     "output_type": "display_data"
    }
   ],
   "source": [
    "confusion_matrix(y_test, y_pred)\n",
    "# Se puede visualizar la matriz de confusión\n",
    "plot_confusion_matrix(svm, X_test, y_test)  \n",
    "plt.show() "
   ]
  },
  {
   "cell_type": "code",
   "execution_count": 60,
   "id": "879177c0-06b2-48cc-81e5-89822ef396b0",
   "metadata": {},
   "outputs": [
    {
     "name": "stdout",
     "output_type": "stream",
     "text": [
      "[<1x21299 sparse matrix of type '<class 'numpy.float64'>'\n",
      "\twith 14051 stored elements in Compressed Sparse Row format>]\n"
     ]
    }
   ],
   "source": [
    "#svm.coef_\n",
    "lista =[]\n",
    "for i in svm.coef_:\n",
    "    lista.append(i)\n",
    "    \n",
    "print(lista)"
   ]
  },
  {
   "cell_type": "code",
   "execution_count": 61,
   "id": "4d9fac9e-107d-46d3-b7bc-6c3a0c72000e",
   "metadata": {},
   "outputs": [],
   "source": [
    "coeficientes = svm.coef_[0]\n",
    "dense_matrix = np.array(coeficientes.todense())\n",
    "\n",
    "# Obtener una lista nativa de Python a partir de la matriz densa\n",
    "native_list = dense_matrix.tolist()\n",
    "lalista = native_list[0]"
   ]
  },
  {
   "cell_type": "code",
   "execution_count": 78,
   "id": "37de4e90-9615-4fa4-b9d0-fd170f981f43",
   "metadata": {},
   "outputs": [
    {
     "name": "stdout",
     "output_type": "stream",
     "text": [
      "Accuracy: 0.93\n"
     ]
    }
   ],
   "source": [
    "y_pred = svm.predict(X_test)\n",
    "\n",
    "# Evaluate the performance of the model\n",
    "accuracy = accuracy_score(y_test, y_pred)\n",
    "print(f'Accuracy: {accuracy:.2f}')"
   ]
  },
  {
   "cell_type": "code",
   "execution_count": 62,
   "id": "145dee2d-afaf-4c13-8e6b-3c392b977f4f",
   "metadata": {},
   "outputs": [],
   "source": [
    "#lista_positiva = [abs(numero) for numero in lalista]"
   ]
  },
  {
   "cell_type": "code",
   "execution_count": 64,
   "id": "25672b23-545d-454b-8384-4d146feebf64",
   "metadata": {},
   "outputs": [
    {
     "name": "stdout",
     "output_type": "stream",
     "text": [
      "Atributos de mayor peso:\n",
      "       coeficientes caracteristicas\n",
      "19079      2.059576            suci\n",
      "15347      1.769692           pesim\n",
      "14777      1.725393           pared\n",
      "19086      1.558407           sucio\n",
      "15353      1.342498          pesimo\n",
      "10390      1.301082          horror\n",
      "17889      1.246254           saban\n",
      "7402       1.238269       educacion\n",
      "12227      1.164948          llegar\n",
      "5764       1.132404       cucaracha\n",
      "5763       1.132404        cucarach\n",
      "6311       1.121134             des\n",
      "12583      1.102125        malisimo\n",
      "12581      1.101712         malisim\n",
      "15143      1.094794         pequena\n",
      "9215       1.087370             fot\n",
      "9216       1.087370            foto\n",
      "6067       1.070857           decir\n",
      "17806      1.066935             rot\n",
      "7198       1.064190      doscientos\n",
      "14591      1.059720             pag\n",
      "3754       1.058942             car\n",
      "11433      1.056681           jabon\n",
      "12546      1.053405             mal\n",
      "3121       1.029723         booking\n",
      "6121       1.028140       deficient\n",
      "13598      1.023131           muell\n",
      "19038      1.009395             sub\n",
      "10388      1.000376         horribl\n",
      "6505       0.999822          desear\n",
      "6926       0.988044           diner\n",
      "6928       0.988044          dinero\n",
      "17890      0.980156          sabana\n",
      "3658       0.953444         camping\n",
      "12216      0.952875            lleg\n",
      "21205      0.950383              yo\n",
      "3806       0.950040         carisim\n",
      "11819      0.945094          lament\n",
      "11620      0.942787          junior\n",
      "15750      0.930870           poner\n",
      "10389      0.928401        horrible\n",
      "6048       0.916944       decepcion\n",
      "19566      0.877487            teni\n",
      "20166      0.874098          triste\n",
      "2199       0.869328            asco\n",
      "5742       0.868647          cuatro\n",
      "20676      0.866340          ventán\n",
      "8260       0.865491         esperar\n",
      "8949       0.862749           fatal\n",
      "12595      0.856654            malo\n"
     ]
    }
   ],
   "source": [
    "# Obtener los coeficientes y ordenarlos en orden descendente\n",
    "\n",
    "# Crear un DataFrame con los coeficientes y los nombres de las características\n",
    "df_coeficientes = pd.DataFrame({\"coeficientes\": lalista, \"caracteristicas\": lista_de_palabras_entrenamiento})\n",
    "\n",
    "# Ordenar el DataFrame por los coeficientes en orden descendente\n",
    "df_coeficientes = df_coeficientes.sort_values(by=\"coeficientes\", ascending=False)\n",
    "\n",
    "# Imprimir los 10 atributos de mayor peso\n",
    "print(\"Atributos de mayor peso:\")\n",
    "print(df_coeficientes.head(50))\n"
   ]
  },
  {
   "cell_type": "code",
   "execution_count": 65,
   "id": "0eef56e5-5ade-4b05-b853-113a9bbd9084",
   "metadata": {},
   "outputs": [
    {
     "name": "stdout",
     "output_type": "stream",
     "text": [
      "Atributos de mayor peso:\n",
      "       coeficientes caracteristicas\n",
      "12124     -2.132645          limpio\n",
      "12104     -1.678751           limpi\n",
      "4798      -1.531703           comod\n",
      "15300     -1.345585        personal\n",
      "11442     -1.322479            jaen\n",
      "1614      -1.281776          amplio\n",
      "15205     -1.275945         perfect\n",
      "8625      -1.274339        excelent\n",
      "8627      -1.267876       excelente\n",
      "1606      -1.253103           ampli\n",
      "15209     -1.230904        perfecto\n",
      "7257      -1.208743             dud\n",
      "9586      -1.208330          genial\n",
      "1506      -1.204055           amabl\n",
      "20270     -1.159329       ubicacion\n",
      "7653      -1.158799          encant\n",
      "20056     -1.156584       tranquilo\n",
      "8329      -1.131726        estacion\n",
      "21122     -1.127341            wifi\n",
      "20036     -1.092655        tranquil\n",
      "5735      -1.056165        cuarenta\n",
      "14802     -1.020268         parking\n",
      "980       -1.007709       agradable\n",
      "13423     -1.002270         monitor\n",
      "977       -0.992397           agrad\n",
      "7263      -0.988900           dudar\n",
      "12745     -0.984782        maravill\n",
      "196       -0.938806             24h\n",
      "18615     -0.927055            situ\n",
      "4799      -0.903009          comoda\n",
      "9573      -0.902046         general\n",
      "4063      -0.898306            cerc\n",
      "6746      -0.872392          detall\n",
      "4064      -0.870278           cerca\n",
      "6751      -0.865210         detalle\n",
      "18619     -0.865102         situado\n",
      "18760     -0.865053             sol\n",
      "2341      -0.856546        atencion\n",
      "4821      -0.854787          comodo\n",
      "13150     -0.847276        mezquita\n",
      "13149     -0.847276         mezquit\n",
      "13188     -0.846376             mil\n",
      "3937      -0.844535        catedral\n",
      "15037     -0.844274           pegar\n",
      "8244      -0.830171    espectacular\n",
      "12397     -0.825807             lug\n",
      "11080     -0.824629     inmejorable\n",
      "8927      -0.823804         fantast\n",
      "11079     -0.823113         inmejor\n",
      "19152     -0.813829             sum\n"
     ]
    }
   ],
   "source": [
    "# Obtener los coeficientes y ordenarlos en orden descendente\n",
    "\n",
    "# Crear un DataFrame con los coeficientes y los nombres de las características\n",
    "df_coeficientes = pd.DataFrame({\"coeficientes\": lalista, \"caracteristicas\": lista_de_palabras_entrenamiento})\n",
    "\n",
    "# Ordenar el DataFrame por los coeficientes en orden descendente\n",
    "df_coeficientes = df_coeficientes.sort_values(by=\"coeficientes\", ascending=True)\n",
    "\n",
    "# Imprimir los 10 atributos de mayor peso\n",
    "print(\"Atributos de mayor peso:\")\n",
    "print(df_coeficientes.head(50))\n"
   ]
  },
  {
   "cell_type": "code",
   "execution_count": 66,
   "id": "7e599a4f-127f-4465-af51-d17cd1ed026c",
   "metadata": {},
   "outputs": [
    {
     "name": "stderr",
     "output_type": "stream",
     "text": [
      "C:\\Users\\diego\\anaconda3\\lib\\site-packages\\sklearn\\utils\\deprecation.py:87: FutureWarning: Function plot_precision_recall_curve is deprecated; Function `plot_precision_recall_curve` is deprecated in 1.0 and will be removed in 1.2. Use one of the class methods: PrecisionRecallDisplay.from_predictions or PrecisionRecallDisplay.from_estimator.\n",
      "  warnings.warn(msg, category=FutureWarning)\n"
     ]
    },
    {
     "data": {
      "image/png": "[encoded data removed]",
      "text/plain": [
       "<Figure size 800x550 with 1 Axes>"
      ]
     },
     "metadata": {},
     "output_type": "display_data"
    }
   ],
   "source": [
    "from sklearn.metrics import plot_precision_recall_curve\n",
    "\n",
    "plot_precision_recall_curve(svm, X_test, y_test)\n",
    "plt.show()"
   ]
  },
  {
   "cell_type": "code",
   "execution_count": 67,
   "id": "04f4c9b1-2562-485b-b23b-6d28484fed2b",
   "metadata": {},
   "outputs": [
    {
     "data": {
      "text/plain": [
       "DecisionTreeClassifier(random_state=42)"
      ]
     },
     "execution_count": 67,
     "metadata": {},
     "output_type": "execute_result"
    }
   ],
   "source": [
    "from sklearn.tree import DecisionTreeClassifier\n",
    "# Train a decision tree model\n",
    "clf = DecisionTreeClassifier(random_state=42)\n",
    "clf.fit(X_train, y_train)"
   ]
  },
  {
   "cell_type": "code",
   "execution_count": 68,
   "id": "053b7407-ecac-40c2-9eab-65968e4f0232",
   "metadata": {},
   "outputs": [
    {
     "name": "stdout",
     "output_type": "stream",
     "text": [
      "Accuracy: 0.87\n"
     ]
    }
   ],
   "source": [
    "# Predict on the testing data\n",
    "y_pred = clf.predict(X_test)\n",
    "\n",
    "# Evaluate the performance of the model\n",
    "accuracy = accuracy_score(y_test, y_pred)\n",
    "print(f'Accuracy: {accuracy:.2f}')"
   ]
  },
  {
   "cell_type": "code",
   "execution_count": 69,
   "id": "68fab9f4-01f3-4630-849d-7984365142de",
   "metadata": {},
   "outputs": [
    {
     "name": "stderr",
     "output_type": "stream",
     "text": [
      "C:\\Users\\diego\\anaconda3\\lib\\site-packages\\sklearn\\utils\\deprecation.py:87: FutureWarning: Function plot_confusion_matrix is deprecated; Function `plot_confusion_matrix` is deprecated in 1.0 and will be removed in 1.2. Use one of the class methods: ConfusionMatrixDisplay.from_predictions or ConfusionMatrixDisplay.from_estimator.\n",
      "  warnings.warn(msg, category=FutureWarning)\n"
     ]
    },
    {
     "data": {
      "image/png": "[encoded data removed]",
      "text/plain": [
       "<Figure size 800x550 with 2 Axes>"
      ]
     },
     "metadata": {},
     "output_type": "display_data"
    }
   ],
   "source": [
    "#from sklearn.metrics import plot_confusion_matrix\n",
    "\n",
    "# Se genera la matriz de confusión\n",
    "confusion_matrix(y_test, y_pred)\n",
    "# Se puede visualizar la matriz de confusión\n",
    "plot_confusion_matrix(clf, X_test, y_test)  \n",
    "plt.show()  "
   ]
  },
  {
   "cell_type": "code",
   "execution_count": 70,
   "id": "208bb864-c9a4-422a-8220-f58d33ac62c2",
   "metadata": {},
   "outputs": [
    {
     "name": "stdout",
     "output_type": "stream",
     "text": [
      "              precision    recall  f1-score   support\n",
      "\n",
      "           0       0.92      0.93      0.92       834\n",
      "           1       0.63      0.58      0.60       166\n",
      "\n",
      "    accuracy                           0.87      1000\n",
      "   macro avg       0.77      0.76      0.76      1000\n",
      "weighted avg       0.87      0.87      0.87      1000\n",
      "\n"
     ]
    }
   ],
   "source": [
    "# Mostrar reporte de clasificación\n",
    "print(classification_report(y_test, y_pred))"
   ]
  },
  {
   "cell_type": "code",
   "execution_count": 71,
   "id": "6e088030-74ef-4e0f-9728-2c679bcd3af7",
   "metadata": {},
   "outputs": [
    {
     "name": "stdout",
     "output_type": "stream",
     "text": [
      "         Atributo  Importancia\n",
      "19079        suci     0.088874\n",
      "12546         mal     0.054483\n",
      "15347       pesim     0.048254\n",
      "14591         pag     0.028224\n",
      "6067        decir     0.018498\n",
      "14777       pared     0.016993\n",
      "16819   recepcion     0.015368\n",
      "12124      limpio     0.013136\n",
      "12227      llegar     0.012732\n",
      "10437       hotel     0.011766\n",
      "6926        diner     0.011340\n",
      "6121    deficient     0.010861\n",
      "10390      horror     0.010624\n",
      "11820  lamentable     0.010390\n",
      "12581     malisim     0.009353\n",
      "12189        llam     0.009104\n",
      "12619       manch     0.009027\n",
      "9215          fot     0.008789\n",
      "13794     nefasto     0.008339\n",
      "6385     desayuno     0.008152\n",
      "15142      pequen     0.007944\n",
      "6858    dieciocho     0.007484\n",
      "980     agradable     0.007478\n",
      "6311          des     0.007435\n",
      "11463         jam     0.007408\n",
      "11170    insoport     0.007381\n",
      "18892    sorpresa     0.007364\n",
      "5764    cucaracha     0.007346\n",
      "3806      carisim     0.007328\n",
      "19566        teni     0.006921\n",
      "4880      complet     0.006888\n",
      "17400      reserv     0.006820\n",
      "15032      pegado     0.006415\n",
      "6161        dejar     0.006263\n",
      "16598       quier     0.006173\n",
      "10038      hablar     0.006125\n",
      "12257      llevar     0.006121\n",
      "17889       saban     0.005973\n",
      "8073     escandal     0.005826\n",
      "7402    educacion     0.005808\n",
      "17927        saco     0.005639\n",
      "13494     morning     0.005628\n",
      "20380      urgent     0.005618\n",
      "7195          dos     0.005610\n",
      "507          abus     0.005608\n",
      "16179    problema     0.005583\n",
      "6377      desayun     0.005544\n",
      "21205          yo     0.005526\n",
      "8453      estrell     0.005425\n",
      "14597       pagar     0.005337\n"
     ]
    }
   ],
   "source": [
    "# Obtener la importancia de cada atributo\n",
    "importancia_atributos = clf.feature_importances_\n",
    "\n",
    "# Crear un dataframe con los nombres de los atributos y su importancia\n",
    "datos_atributos = {'Atributo': lista_de_palabras_entrenamiento, 'Importancia': importancia_atributos}\n",
    "df_atributos = pd.DataFrame(datos_atributos)\n",
    "\n",
    "# Ordenar los atributos por importancia descendente\n",
    "df_atributos_ordenados = df_atributos.sort_values('Importancia', ascending=False)\n",
    "\n",
    "# Imprimir los 10 atributos más importantes\n",
    "print(df_atributos_ordenados.head(50))"
   ]
  },
  {
   "cell_type": "code",
   "execution_count": 73,
   "id": "65c041bd-d1f7-479b-b793-92622086c283",
   "metadata": {},
   "outputs": [
    {
     "name": "stdout",
     "output_type": "stream",
     "text": [
      "               Atributo  Importancia\n",
      "0                  0000          0.0\n",
      "14172             ocean          0.0\n",
      "14171           ocasión          0.0\n",
      "14170         ocasional          0.0\n",
      "14169           ocasion          0.0\n",
      "14168         obviously          0.0\n",
      "14167             obvio          0.0\n",
      "14166          obviedad          0.0\n",
      "14173            oceano          0.0\n",
      "14165            obvied          0.0\n",
      "14163        obviamente          0.0\n",
      "14162              obvi          0.0\n",
      "14161           obtuvir          0.0\n",
      "14160             obtuv          0.0\n",
      "14159            obtién          0.0\n",
      "14158            obtien          0.0\n",
      "14157           obtener          0.0\n",
      "14164            obviar          0.0\n",
      "14174               och          0.0\n",
      "14175           ochaber          0.0\n",
      "14176              oche          0.0\n",
      "14193            ocupab          0.0\n",
      "14192              ocup          0.0\n",
      "14191               ocu          0.0\n",
      "14190          octubrey          0.0\n",
      "14189           octubre          0.0\n",
      "14188            octubr          0.0\n",
      "14187             octbr          0.0\n",
      "14186               oct          0.0\n",
      "14185             ockso          0.0\n",
      "14184             ocksa          0.0\n",
      "14183              ocio          0.0\n",
      "14182               oci          0.0\n",
      "14181        ochociento          0.0\n",
      "14180         ochocient          0.0\n",
      "14179              ocho          0.0\n",
      "14178           ochenta          0.0\n",
      "14177            ochent          0.0\n",
      "14156             obten          0.0\n",
      "14194        ocupabamos          0.0\n",
      "14155          obstante          0.0\n",
      "14153          obsoleto          0.0\n",
      "14131            obrero          0.0\n",
      "14130             obrer          0.0\n",
      "14129             obras          0.0\n",
      "14128              obra          0.0\n",
      "14127            obligo          0.0\n",
      "14126       obligatorio          0.0\n",
      "14125  obligatoriamente          0.0\n",
      "14132            obscen          0.0\n"
     ]
    }
   ],
   "source": [
    "# Obtener la importancia de cada atributo\n",
    "importancia_atributos = clf.feature_importances_\n",
    "\n",
    "# Crear un dataframe con los nombres de los atributos y su importancia\n",
    "datos_atributos = {'Atributo': lista_de_palabras_entrenamiento, 'Importancia': importancia_atributos}\n",
    "df_atributos = pd.DataFrame(datos_atributos)\n",
    "\n",
    "# Ordenar los atributos por importancia descendente\n",
    "df_atributos_ordenados = df_atributos.sort_values('Importancia', ascending=True)\n",
    "\n",
    "# Imprimir los 10 atributos más importantes\n",
    "print(df_atributos_ordenados.head(50))"
   ]
  },
  {
   "cell_type": "code",
   "execution_count": 74,
   "id": "2f19b235-181e-493b-8c32-559654f0df81",
   "metadata": {},
   "outputs": [],
   "source": [
    "filename = 'modelogreg.joblib'"
   ]
  },
  {
   "cell_type": "code",
   "execution_count": 75,
   "id": "849a528c-81fa-4aa3-83da-dde55b304da2",
   "metadata": {},
   "outputs": [],
   "source": [
    "from joblib import dump, load"
   ]
  },
  {
   "cell_type": "code",
   "execution_count": 76,
   "id": "e6a0b65d-4967-49fe-8611-37a496c3d113",
   "metadata": {},
   "outputs": [
    {
     "data": {
      "text/plain": [
       "['modelogreg.joblib']"
      ]
     },
     "execution_count": 76,
     "metadata": {},
     "output_type": "execute_result"
    }
   ],
   "source": [
    "dump(pipeline, filename)"
   ]
  },
  {
   "cell_type": "code",
   "execution_count": null,
   "id": "0a2bb0d3-e45a-40c8-b73d-01bf235d1e2c",
   "metadata": {},
   "outputs": [],
   "source": []
  }
 ],
 "metadata": {
  "kernelspec": {
   "display_name": "Python 3 (ipykernel)",
   "language": "python",
   "name": "python3"
  },
  "language_info": {
   "codemirror_mode": {
    "name": "ipython",
    "version": 3
   },
   "file_extension": ".py",
   "mimetype": "text/x-python",
   "name": "python",
   "nbconvert_exporter": "python",
   "pygments_lexer": "ipython3",
   "version": "3.9.13"
  }
 },
 "nbformat": 4,
 "nbformat_minor": 5
}
